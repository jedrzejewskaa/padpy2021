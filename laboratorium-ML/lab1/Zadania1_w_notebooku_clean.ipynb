{
 "cells": [
  {
   "cell_type": "markdown",
   "metadata": {},
   "source": [
    "## Zadanie 1\n",
    "\n",
    "Wczytanie danych"
   ]
  },
  {
   "cell_type": "code",
   "execution_count": 32,
   "metadata": {},
   "outputs": [
    {
     "name": "stdout",
     "output_type": "stream",
     "text": [
      "Podaj pierwszą liczbę:1.23243324\n",
      "Podaj druga liczbę:12\n",
      "Podaj operację matematyczną:+\n"
     ]
    }
   ],
   "source": [
    "x = input('Podaj pierwszą liczbę:')\n",
    "y = input('Podaj druga liczbę:')\n",
    "z = input('Podaj operację matematyczną:')"
   ]
  },
  {
   "cell_type": "markdown",
   "metadata": {},
   "source": [
    "Input() rzutuję zmienną na tekst, wieć musimy skonwertowac taką wartość na liczbę, inaczej nic nie policzymy"
   ]
  },
  {
   "cell_type": "code",
   "execution_count": 33,
   "metadata": {},
   "outputs": [],
   "source": [
    "x = float(x)\n",
    "y = float(y)"
   ]
  },
  {
   "cell_type": "code",
   "execution_count": null,
   "metadata": {},
   "outputs": [],
   "source": []
  },
  {
   "cell_type": "markdown",
   "metadata": {},
   "source": [
    "Nasz program, poki co posłużymy sie instrukcja if..elif..else aby zdecydowac co robimy"
   ]
  },
  {
   "cell_type": "code",
   "execution_count": 34,
   "metadata": {},
   "outputs": [],
   "source": [
    "if z == \"+\":\n",
    "    wynik = x + y\n",
    "elif z == \"-\":\n",
    "    wynik = x - y\n",
    "else:\n",
    "    wynik = 'Error, does not compute'\n"
   ]
  },
  {
   "cell_type": "code",
   "execution_count": 65,
   "metadata": {},
   "outputs": [
    {
     "name": "stdout",
     "output_type": "stream",
     "text": [
      "X: ________1.23\n",
      "operacja:     +\n",
      "y:     +12.0000\n",
      "wynik:  13.2324\n"
     ]
    }
   ],
   "source": [
    "print(\"X: {0!s:_>12.4}\\noperacja: {2:>5}\\ny: {1:>+12.4f}\\nwynik: {3:>8.6}\".format(x, y, z, wynik))\n"
   ]
  },
  {
   "cell_type": "code",
   "execution_count": 75,
   "metadata": {},
   "outputs": [
    {
     "name": "stdout",
     "output_type": "stream",
     "text": [
      "To poki co ostani przyklad z formatowania tekstu ___3.14\n"
     ]
    }
   ],
   "source": [
    "print(\"To poki co ostani przyklad z formatowania tekstu {:_>{szerokosc}.{precyzja}f}\".format(3.1415161718, szerokosc = 7, \n",
    "                                                                                           precyzja = 2))"
   ]
  },
  {
   "cell_type": "markdown",
   "metadata": {},
   "source": [
    "## Zadanie 2"
   ]
  },
  {
   "cell_type": "markdown",
   "metadata": {},
   "source": [
    "Wczytywanie danych"
   ]
  },
  {
   "cell_type": "code",
   "execution_count": 81,
   "metadata": {},
   "outputs": [
    {
     "name": "stdout",
     "output_type": "stream",
     "text": [
      "Podaj wage w kg: 12\n",
      "Podaj liczbe porcji alkoholu: 12\n",
      "Podaj wielkosc porcji w ml: 12\n",
      "Podaj zawartosc alkoholu (w %): 12\n",
      "Podaj plec [K/M]: a\n"
     ]
    }
   ],
   "source": [
    "waga = input(\"Podaj wage w kg: \")\n",
    "liczbaPorcji = input(\"Podaj liczbe porcji alkoholu: \") \n",
    "wielkoscPorcji = input(\"Podaj wielkosc porcji w ml: \") \n",
    "zawartoscAlko = input(\"Podaj zawartosc alkoholu (w %): \") \n",
    "plec = input(\"Podaj plec [K/M]: \") "
   ]
  },
  {
   "cell_type": "markdown",
   "metadata": {},
   "source": [
    "Tym razem przetestujmy czy uzytkonik podal poprawne dane"
   ]
  },
  {
   "cell_type": "code",
   "execution_count": 84,
   "metadata": {},
   "outputs": [],
   "source": [
    "if float(waga) < 0 or float(wielkoscPorcji) < 0 or float(zawartoscAlko) < 0 or float(zawartoscAlko) > 96 or plec not in ['K', 'M']:\n",
    "    komunikat = 'Podano bledne parametry'\n",
    "else:\n",
    "    komunikat = True\n",
    "    \n",
    "if plec == 'K':\n",
    "    wspolczynnik = 0.6\n",
    "else:\n",
    "    wspolczynnik = 0.7"
   ]
  },
  {
   "cell_type": "markdown",
   "metadata": {},
   "source": [
    "Teraz obliczmy zawartosc alkoholu w promilach we krwii"
   ]
  },
  {
   "cell_type": "code",
   "execution_count": 92,
   "metadata": {},
   "outputs": [],
   "source": [
    "if komunikat:\n",
    "    A = 10*(float(wielkoscPorcji) * int(liczbaPorcji) * float(zawartoscAlko) / 100)/12.5\n",
    "    P = A / (wspolczynnik*int(waga)) \n",
    "else:\n",
    "    print(komunikay)"
   ]
  },
  {
   "cell_type": "markdown",
   "metadata": {},
   "source": [
    "Teraz wypisywanie ouutu"
   ]
  },
  {
   "cell_type": "code",
   "execution_count": 93,
   "metadata": {},
   "outputs": [
    {
     "name": "stdout",
     "output_type": "stream",
     "text": [
      "Ilość promili alkoholu we krwi      1.646\n"
     ]
    }
   ],
   "source": [
    "print(\"Ilość promili alkoholu we krwi {:>10.3f}\".format(P))"
   ]
  },
  {
   "cell_type": "code",
   "execution_count": null,
   "metadata": {},
   "outputs": [],
   "source": []
  }
 ],
 "metadata": {
  "kernelspec": {
   "display_name": "Python 3",
   "language": "python",
   "name": "python3"
  },
  "language_info": {
   "codemirror_mode": {
    "name": "ipython",
    "version": 3
   },
   "file_extension": ".py",
   "mimetype": "text/x-python",
   "name": "python",
   "nbconvert_exporter": "python",
   "pygments_lexer": "ipython3",
   "version": "3.7.6"
  }
 },
 "nbformat": 4,
 "nbformat_minor": 4
}
