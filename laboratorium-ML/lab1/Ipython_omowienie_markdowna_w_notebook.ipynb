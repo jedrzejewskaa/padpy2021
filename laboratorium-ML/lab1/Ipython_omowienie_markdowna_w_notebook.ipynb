{
 "cells": [
  {
   "cell_type": "markdown",
   "metadata": {},
   "source": [
    "---\n",
    "title: \"Omowienie Markdown'a\"\n",
    "subtitle: \"Lab 1\"\n",
    "author: \"Michał Ł\"\n",
    "\n",
    "output:\n",
    "  html_document:\n",
    "    toc: true # czy wyswietlic spis tresci /twozony naglowkami/\n",
    "    toc_float: true # czy naglowek ma byc umieszczony z lewej strony dokumentu\n",
    "    toc_depth: 2 # do jakiego \"poziomu\" naglowka tworzyc spis tresci\n",
    "    number_sections: true # czy numereowac elementy spisu tresci\n",
    "    theme: journal  # styl dokumentu przykladowe styl https://bootswatch.com/3/\n",
    "    highlight: tango # podswietlanie \n",
    "    df_print: paged # przy innym niz default'owe wyswietlanie data frame'ow\n",
    "    code_folding: \"none\" #zawijanie kodu\n",
    "    mathjax: local # biblioteka do pisania ladnych wyrazen regularnych \n",
    "    self_contained: false # w przypadku local trzeba ustawic na false\n",
    "    keep_md: false # nie zachowuj tymczasowego pliku *md z knita\n",
    "    encoding: \"UTF-8\" #kodowanie\n",
    "\n",
    "---\n"
   ]
  },
  {
   "cell_type": "markdown",
   "metadata": {},
   "source": [
    "<font style=\"font-size:19px\">Omowienie markdowna w notebook-u</font> <br>"
   ]
  },
  {
   "cell_type": "markdown",
   "metadata": {},
   "source": [
    "Markdown to jezyk umozliwiajacy latwo konwersje do html-a. Pliki beda składac sie z czystego tekstu wzbogaconego o\n",
    "polecenia formatujace. Umożliwia on wstawianie linkow, obrazkow, rownac, list itd ... Stosujac połaczenie markdown + kod w danym języku (python, R ...) możemy traktować jako swoisty notatnik w ktorym tworzac program mozemy od razu komentowac wyniki"
   ]
  },
  {
   "cell_type": "markdown",
   "metadata": {},
   "source": [
    "W jupytr notebooku mozemy nadawac komorce atrybut, determinujacy czy bedzie traktowana jako komorka w ktorej piszemy kod python-owy, czy bedzie to komorka w ktorej zawarty jest kod markdown. Robimy to albo wybierajac odpowiednią opcje z menu Cell -> Cell Type -> , albo wybierajac z klawaitury 'm'"
   ]
  },
  {
   "cell_type": "markdown",
   "metadata": {},
   "source": [
    "Formatowanie tekstu:\n",
    "\n",
    "+ \\** **Pogrubienie**\n",
    "+ \\* *Kursywa*\n",
    "+ \\*** ***Pogrubienie + Kursywa***\n",
    "+ \\~~ ~~Przekreslenie~~\n",
    "\n",
    "ala <br> ola"
   ]
  },
  {
   "cell_type": "markdown",
   "metadata": {},
   "source": [
    "Naglowki. Do ich tworzenia sluzy \\#. Pojedynczy \\# oznacza naglowek poziomu 1, \\## poziomu 2 itd ...\n",
    "\n",
    "# To jest naglowek poziomu 1\n",
    "## To jest naglowek poziomu 2\n",
    "### To jest naglowek poziomu 3"
   ]
  },
  {
   "cell_type": "markdown",
   "metadata": {},
   "source": [
    "Listy tworzymy poprzez rozpoczecie wiersza \"+\" lub \"-\" pamietaj o dodaniu spacji po znaku.\n",
    "\n",
    "+ Punkt 1\n",
    "+ Punkt 2\n",
    "\n",
    " - Inny punkt 1\n",
    " - Inny punkt 2\n"
   ]
  },
  {
   "cell_type": "markdown",
   "metadata": {},
   "source": [
    "Wyroznione bloki na przyklad z cytatami tworzymy rozpozynajac wiersz od  \"\\>\", cytaty mozna zagnieżdźać (!?) poprzez stosowanie \">\" wielokrotnie. Pamietaj tylko by oddzielac te elementy pusta linia\n",
    "\n",
    "> Somewhere, something incredible is waiting to be known \n",
    "\n",
    ">> The nitrogen in our DNA, the calcium in our teeth, the iron in our blood, \n",
    ">> the carbon in our apple pies were made in the interiors of collapsing stars\n",
    "\n",
    "<br/> Carl Sagan"
   ]
  },
  {
   "cell_type": "markdown",
   "metadata": {},
   "source": [
    "Tworzenie klikalnych linków poprzedzamy nawiasem klamrowym po ktorym w zwyklym nawiaie umieszczamy sam adres \\[kliknij mnie\\]`(www.kliknijmnie\")` <br/>\n",
    "\n",
    "[bardzo wazny link](https://rmarkdown.rstudio.com/)\n"
   ]
  },
  {
   "cell_type": "code",
   "execution_count": 21,
   "metadata": {},
   "outputs": [
    {
     "name": "stdout",
     "output_type": "stream",
     "text": [
      "3\n"
     ]
    }
   ],
   "source": [
    "x = 1\n",
    "y = 2\n",
    "print(x + y)"
   ]
  },
  {
   "cell_type": "markdown",
   "metadata": {},
   "source": [
    "Obrazki wyświetlamy podobnie jak linki tj. podajac ich sciezkę w \"()\" (względną, bezwzględną, link do obrazka umieszczonego w sieci), ale nawias klamrowym poprzedzamy \"!\". Drobna porada, jeśli przekażesz komuś html-a i ta osoba nie będzie miała takiej samej struktury katalogów prowadzącej do pliku który wyświetlamy w dokumencie, to plik oczywiście się nie wyświetli. \n",
    "\n",
    "![To jest podpis pod obrazek](https://upload.wikimedia.org/wikipedia/commons/thumb/5/5b/Helgumannen_%282%29_hq.JPG/1280px-Helgumannen_%282%29_hq.JPG)"
   ]
  },
  {
   "cell_type": "markdown",
   "metadata": {},
   "source": [
    "Rysunki mozna tez tworzyc stwosując pythona, choć nie ma on wbudowanej funkcjonalnosci do rysowania mozemy posluzyc sie matplotlibem.\n"
   ]
  },
  {
   "cell_type": "code",
   "execution_count": 22,
   "metadata": {},
   "outputs": [
    {
     "data": {
      "image/png": "[encoded data removed]",
      "text/plain": [
       "<Figure size 432x288 with 1 Axes>"
      ]
     },
     "metadata": {
      "needs_background": "light"
     },
     "output_type": "display_data"
    }
   ],
   "source": [
    "%matplotlib inline\n",
    "import matplotlib.pyplot as plt\n",
    "x = list(range(10))\n",
    "y = list(range(1,20,2))\n",
    "\n",
    "plt.plot(x,y)\n",
    "plt.ylabel('Some numbers')\n",
    "plt.xlabel('Other numbers')\n",
    "plt.show()"
   ]
  },
  {
   "cell_type": "markdown",
   "metadata": {},
   "source": [
    "Choc do wyswietlania tabel zwykle bedziemy korzystac z pythona, ale mozna je pisac tez w markdownie, linia po tytule kolumn, pozwala nam \n",
    "\n",
    "determinowac wyrownanie teksu:\n",
    "\n",
    "\"Naglowek 1 | Naglowek 2\" <br/>\n",
    "\"-:|-:\" <br/>\n",
    "\"1 | 2\" <br/>\n",
    "\n",
    "Da nam\n",
    "\n",
    "Naglowek 1 | Naglowek 2\n",
    "-:|-:\n",
    "1 | 2\n"
   ]
  },
  {
   "cell_type": "markdown",
   "metadata": {},
   "source": [
    "W mrkdownie mozemy rowniez pisac rownania ... uzywajac skladni z [link](https://en.wikibooks.org/wiki/LaTeX/Mathematics)\n",
    "\n",
    "Wzory u mieiszczamy albo pomiedzy \n",
    "+ \\$ \n",
    "+ \\$$\n",
    "+ `\\begin{equation}` Tu-wstawiamy-rownanie `\\end{equation}`\n",
    "\n",
    "\n",
    "To rownanie jest bez sensu, ale co tam $lim(x^2) = \\alpha * \\frac{1}{7} *\\sum_{1}^{n}{x^2} + \\prod_{n}^{i}{1}$\n",
    "\n"
   ]
  },
  {
   "cell_type": "markdown",
   "metadata": {},
   "source": [
    "Markdown zawiera podstawowe formatowania tekstu, jesli znamy html-a (albo google-a), mozemy rowniez dodawac bezposrednio kod html-owy Na przyklad, aby zmienic czcionke w wybranym fragmencie dokumnetu mozemy uzywac konstrukcji \n",
    "\n",
    "\n",
    "`<font style=\"font-family: Bodoni Poster\"> To jest tekst napisany czcionką Bodoni Poster</font>`\n",
    "\n",
    "\n",
    "Co da nam:\n",
    "\n",
    "\n",
    "<font style=\"font-family: Bodoni Poster\">To jest tekst napisany czcionką Bodoni Poster</font>\n",
    "\n",
    "Ala\n",
    "\n"
   ]
  },
  {
   "cell_type": "markdown",
   "metadata": {},
   "source": [
    "\n",
    "\n"
   ]
  }
 ],
 "metadata": {
  "kernelspec": {
   "display_name": "Python 3",
   "language": "python",
   "name": "python3"
  },
  "language_info": {
   "codemirror_mode": {
    "name": "ipython",
    "version": 3
   },
   "file_extension": ".py",
   "mimetype": "text/x-python",
   "name": "python",
   "nbconvert_exporter": "python",
   "pygments_lexer": "ipython3",
   "version": "3.7.6"
  }
 },
 "nbformat": 4,
 "nbformat_minor": 4
}
